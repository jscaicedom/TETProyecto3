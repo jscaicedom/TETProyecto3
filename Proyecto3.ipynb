{
 "cells": [
  {
   "cell_type": "code",
   "execution_count": 1,
   "metadata": {},
   "outputs": [
    {
     "data": {
      "application/vnd.jupyter.widget-view+json": {
       "model_id": "bb6e4a726df54aa5b7eb913249db848e",
       "version_major": 2,
       "version_minor": 0
      },
      "text/plain": [
       "VBox()"
      ]
     },
     "metadata": {},
     "output_type": "display_data"
    },
    {
     "name": "stdout",
     "output_type": "stream",
     "text": [
      "Starting Spark application\n"
     ]
    },
    {
     "data": {
      "text/html": [
       "<table>\n",
       "<tr><th>ID</th><th>YARN Application ID</th><th>Kind</th><th>State</th><th>Spark UI</th><th>Driver log</th><th>Current session?</th></tr><tr><td>0</td><td>application_1589653496572_0001</td><td>pyspark</td><td>idle</td><td><a target=\"_blank\" href=\"http://ip-172-31-39-127.ec2.internal:20888/proxy/application_1589653496572_0001/\">Link</a></td><td><a target=\"_blank\" href=\"http://ip-172-31-36-4.ec2.internal:8042/node/containerlogs/container_1589653496572_0001_01_000001/livy\">Link</a></td><td>✔</td></tr></table>"
      ],
      "text/plain": [
       "<IPython.core.display.HTML object>"
      ]
     },
     "metadata": {},
     "output_type": "display_data"
    },
    {
     "data": {
      "application/vnd.jupyter.widget-view+json": {
       "model_id": "",
       "version_major": 2,
       "version_minor": 0
      },
      "text/plain": [
       "FloatProgress(value=0.0, bar_style='info', description='Progress:', layout=Layout(height='25px', width='50%'),…"
      ]
     },
     "metadata": {},
     "output_type": "display_data"
    },
    {
     "name": "stdout",
     "output_type": "stream",
     "text": [
      "SparkSession available as 'spark'.\n"
     ]
    },
    {
     "data": {
      "application/vnd.jupyter.widget-view+json": {
       "model_id": "",
       "version_major": 2,
       "version_minor": 0
      },
      "text/plain": [
       "FloatProgress(value=0.0, bar_style='info', description='Progress:', layout=Layout(height='25px', width='50%'),…"
      ]
     },
     "metadata": {},
     "output_type": "display_data"
    }
   ],
   "source": [
    "#import SparkSession\n",
    "from pyspark.sql import SparkSession"
   ]
  },
  {
   "cell_type": "code",
   "execution_count": 2,
   "metadata": {},
   "outputs": [
    {
     "data": {
      "application/vnd.jupyter.widget-view+json": {
       "model_id": "4e5336a4c25c41378cff5b733b1fbcc6",
       "version_major": 2,
       "version_minor": 0
      },
      "text/plain": [
       "VBox()"
      ]
     },
     "metadata": {},
     "output_type": "display_data"
    },
    {
     "data": {
      "application/vnd.jupyter.widget-view+json": {
       "model_id": "",
       "version_major": 2,
       "version_minor": 0
      },
      "text/plain": [
       "FloatProgress(value=0.0, bar_style='info', description='Progress:', layout=Layout(height='25px', width='50%'),…"
      ]
     },
     "metadata": {},
     "output_type": "display_data"
    }
   ],
   "source": [
    "#create spark session object\n",
    "spark=SparkSession.builder.appName('proyecto3').getOrCreate()"
   ]
  },
  {
   "cell_type": "code",
   "execution_count": 3,
   "metadata": {},
   "outputs": [
    {
     "name": "stdout",
     "output_type": "stream",
     "text": [
      "Starting Spark application\n"
     ]
    },
    {
     "data": {
      "text/html": [
       "<table>\n",
       "<tr><th>ID</th><th>YARN Application ID</th><th>Kind</th><th>State</th><th>Spark UI</th><th>Driver log</th><th>Current session?</th></tr><tr><td>1</td><td>application_1589653496572_0002</td><td>pyspark</td><td>idle</td><td><a target=\"_blank\" href=\"http://ip-172-31-39-127.ec2.internal:20888/proxy/application_1589653496572_0002/\">Link</a></td><td><a target=\"_blank\" href=\"http://ip-172-31-40-41.ec2.internal:8042/node/containerlogs/container_1589653496572_0002_01_000001/livy\">Link</a></td><td>✔</td></tr></table>"
      ],
      "text/plain": [
       "<IPython.core.display.HTML object>"
      ]
     },
     "metadata": {},
     "output_type": "display_data"
    },
    {
     "data": {
      "application/vnd.jupyter.widget-view+json": {
       "model_id": "",
       "version_major": 2,
       "version_minor": 0
      },
      "text/plain": [
       "FloatProgress(value=0.0, bar_style='info', description='Progress:', layout=Layout(height='25px', width='50%'),…"
      ]
     },
     "metadata": {},
     "output_type": "display_data"
    },
    {
     "name": "stdout",
     "output_type": "stream",
     "text": [
      "SparkSession available as 'spark'.\n"
     ]
    },
    {
     "data": {
      "text/html": [
       "Current session configs: <tt>{'conf': {'spark.pyspark.python': 'python3', 'spark.pyspark.virtualenv.enabled': 'true', 'spark.pyspark.virtualenv.type': 'native', 'spark.pyspark.virtualenv.bin.path': '/usr/bin/virtualenv'}, 'kind': 'pyspark'}</tt><br>"
      ],
      "text/plain": [
       "<IPython.core.display.HTML object>"
      ]
     },
     "metadata": {},
     "output_type": "display_data"
    },
    {
     "data": {
      "text/html": [
       "<table>\n",
       "<tr><th>ID</th><th>YARN Application ID</th><th>Kind</th><th>State</th><th>Spark UI</th><th>Driver log</th><th>Current session?</th></tr><tr><td>1</td><td>application_1589653496572_0002</td><td>pyspark</td><td>idle</td><td><a target=\"_blank\" href=\"http://ip-172-31-39-127.ec2.internal:20888/proxy/application_1589653496572_0002/\">Link</a></td><td><a target=\"_blank\" href=\"http://ip-172-31-40-41.ec2.internal:8042/node/containerlogs/container_1589653496572_0002_01_000001/livy\">Link</a></td><td>✔</td></tr></table>"
      ],
      "text/plain": [
       "<IPython.core.display.HTML object>"
      ]
     },
     "metadata": {},
     "output_type": "display_data"
    }
   ],
   "source": [
    "%%configure -f\n",
    "{ \"conf\":{\n",
    "\"spark.pyspark.python\": \"python3\",\n",
    "\"spark.pyspark.virtualenv.enabled\": \"true\",\n",
    "\"spark.pyspark.virtualenv.type\":\"native\",\n",
    "\"spark.pyspark.virtualenv.bin.path\":\"/usr/bin/virtualenv\"\n",
    "}}"
   ]
  },
  {
   "cell_type": "code",
   "execution_count": 5,
   "metadata": {},
   "outputs": [
    {
     "data": {
      "application/vnd.jupyter.widget-view+json": {
       "model_id": "6c7253fb7d3e485794c26a953501c699",
       "version_major": 2,
       "version_minor": 0
      },
      "text/plain": [
       "VBox()"
      ]
     },
     "metadata": {},
     "output_type": "display_data"
    },
    {
     "data": {
      "application/vnd.jupyter.widget-view+json": {
       "model_id": "",
       "version_major": 2,
       "version_minor": 0
      },
      "text/plain": [
       "FloatProgress(value=0.0, bar_style='info', description='Progress:', layout=Layout(height='25px', width='50%'),…"
      ]
     },
     "metadata": {},
     "output_type": "display_data"
    }
   ],
   "source": [
    "# carga de datos csv en spark desde un bucket S3.\n",
    "colombia=spark.read.csv('s3://proyectotres/colombia/Casos_positivos_de_COVID-19_en_Colombia.csv',inferSchema=True,header=True)\n",
    "\n",
    "m_muertos_dias =spark.read.csv('s3://proyectotres/mundial/time_series_covid19_deaths_global_iso3_regions.csv',inferSchema=True,header=True)\n",
    "\n",
    "m_confirm_dias =spark.read.csv('s3://proyectotres/mundial/time_series_covid19_confirmed_global_iso3_regions.csv',inferSchema=True,header=True)\n",
    "\n",
    "m_recup_dias =spark.read.csv('s3://proyectotres/mundial/time_series_covid19_recovered_global_iso3_regions.csv',inferSchema=True,header=True)"
   ]
  },
  {
   "cell_type": "code",
   "execution_count": 78,
   "metadata": {},
   "outputs": [
    {
     "data": {
      "application/vnd.jupyter.widget-view+json": {
       "model_id": "7b04c2ece7a74e1f94ccc1a958f1d0be",
       "version_major": 2,
       "version_minor": 0
      },
      "text/plain": [
       "VBox()"
      ]
     },
     "metadata": {},
     "output_type": "display_data"
    },
    {
     "data": {
      "application/vnd.jupyter.widget-view+json": {
       "model_id": "",
       "version_major": 2,
       "version_minor": 0
      },
      "text/plain": [
       "FloatProgress(value=0.0, bar_style='info', description='Progress:', layout=Layout(height='25px', width='50%'),…"
      ]
     },
     "metadata": {},
     "output_type": "display_data"
    },
    {
     "name": "stdout",
     "output_type": "stream",
     "text": [
      "+------------------------+------------------+\n",
      "|Departamento o Distrito |         avg(Edad)|\n",
      "+------------------------+------------------+\n",
      "|               Antioquia| 81.16666666666667|\n",
      "|                 Caquetá|              79.0|\n",
      "|                 Quindio|              78.0|\n",
      "|               Magdalena|            77.125|\n",
      "|      Norte de Santander|              75.7|\n",
      "|                 Córdoba|              75.0|\n",
      "|                  Caldas|              74.5|\n",
      "|                   Huila|             73.25|\n",
      "|    Santa Marta D.T. ...| 70.82352941176471|\n",
      "|       Buenaventura D.E.| 70.66666666666667|\n",
      "|                    Meta|              70.5|\n",
      "|                Amazonas|             69.25|\n",
      "|                   Cesar| 68.81818181818181|\n",
      "|               Risaralda|              67.5|\n",
      "|                 Bolívar|              67.5|\n",
      "|     Cartagena D.T. y C.| 67.37254901960785|\n",
      "|             Bogotá D.C.| 67.21518987341773|\n",
      "|         Valle del Cauca|           66.6125|\n",
      "|       Barranquilla D.E.|            66.125|\n",
      "|               Atlántico|61.388888888888886|\n",
      "+------------------------+------------------+\n",
      "only showing top 20 rows"
     ]
    }
   ],
   "source": [
    "#Promedio de edad de muertos por departamento de mayor a menor\n",
    "\n",
    "edadPromedio = colombia.filter(colombia['Estado']=='Fallecido').groupby('Departamento o Distrito ').agg({'Edad': 'mean'}).sort('avg(Edad)', ascending=False)\n",
    "edadPromedio.show()"
   ]
  },
  {
   "cell_type": "code",
   "execution_count": 96,
   "metadata": {},
   "outputs": [
    {
     "data": {
      "application/vnd.jupyter.widget-view+json": {
       "model_id": "4c75e8af429f41fd83c5344b1cdb550f",
       "version_major": 2,
       "version_minor": 0
      },
      "text/plain": [
       "VBox()"
      ]
     },
     "metadata": {},
     "output_type": "display_data"
    },
    {
     "data": {
      "application/vnd.jupyter.widget-view+json": {
       "model_id": "",
       "version_major": 2,
       "version_minor": 0
      },
      "text/plain": [
       "FloatProgress(value=0.0, bar_style='info', description='Progress:', layout=Layout(height='25px', width='50%'),…"
      ]
     },
     "metadata": {},
     "output_type": "display_data"
    },
    {
     "name": "stdout",
     "output_type": "stream",
     "text": [
      "+----+------------------------+-----+\n",
      "|Sexo|Departamento o distrito |count|\n",
      "+----+------------------------+-----+\n",
      "|   F|                Amazonas|   10|\n",
      "|   M|                Amazonas|   11|\n",
      "|   M|               Antioquia|  149|\n",
      "|   F|               Antioquia|  156|\n",
      "|   M|    Archipiélago de S...|    4|\n",
      "|   M|               Atlántico|   14|\n",
      "|   F|               Atlántico|   15|\n",
      "|   M|       Barranquilla D.E.|   29|\n",
      "|   F|       Barranquilla D.E.|   32|\n",
      "|   F|             Bogotá D.C.|  629|\n",
      "|   M|             Bogotá D.C.|  607|\n",
      "|   F|                 Bolívar|    7|\n",
      "|   M|                 Bolívar|    9|\n",
      "|   M|                  Boyacá|   13|\n",
      "|   F|                  Boyacá|   11|\n",
      "|   M|       Buenaventura D.E.|    3|\n",
      "|   F|       Buenaventura D.E.|    3|\n",
      "|   M|                  Caldas|   18|\n",
      "|   F|                  Caldas|   23|\n",
      "|   F|     Cartagena D.T. y C.|   77|\n",
      "+----+------------------------+-----+\n",
      "only showing top 20 rows"
     ]
    }
   ],
   "source": [
    "#Recuperados en cada departamento por sexo\n",
    "colombia.filter(colombia['Estado']=='Recuperado').groupBy('Sexo', 'Departamento o distrito ').count().sort('Departamento o distrito ', ascending=True).show()"
   ]
  },
  {
   "cell_type": "code",
   "execution_count": 124,
   "metadata": {},
   "outputs": [
    {
     "data": {
      "application/vnd.jupyter.widget-view+json": {
       "model_id": "7e02d1e1089e49dbb27af199f5dd9c1c",
       "version_major": 2,
       "version_minor": 0
      },
      "text/plain": [
       "VBox()"
      ]
     },
     "metadata": {},
     "output_type": "display_data"
    },
    {
     "data": {
      "application/vnd.jupyter.widget-view+json": {
       "model_id": "",
       "version_major": 2,
       "version_minor": 0
      },
      "text/plain": [
       "FloatProgress(value=0.0, bar_style='info', description='Progress:', layout=Layout(height='25px', width='50%'),…"
      ]
     },
     "metadata": {},
     "output_type": "display_data"
    },
    {
     "name": "stdout",
     "output_type": "stream",
     "text": [
      "+------------+-----+\n",
      "|      Estado|count|\n",
      "+------------+-----+\n",
      "|        null|    3|\n",
      "|  Recuperado| 1591|\n",
      "|        Leve| 3226|\n",
      "|Asintomático|  317|\n",
      "|       Grave|   41|\n",
      "|   Fallecido|  197|\n",
      "|    Moderado|  259|\n",
      "|        leve|    3|\n",
      "+------------+-----+"
     ]
    }
   ],
   "source": [
    "#Estado de las mujeres infectadas en Colombia\n",
    "colombia.filter(colombia['Sexo']=='F').groupBy('Estado').count().show()"
   ]
  },
  {
   "cell_type": "code",
   "execution_count": 127,
   "metadata": {},
   "outputs": [
    {
     "data": {
      "application/vnd.jupyter.widget-view+json": {
       "model_id": "043eff888666446984aee118414fedca",
       "version_major": 2,
       "version_minor": 0
      },
      "text/plain": [
       "VBox()"
      ]
     },
     "metadata": {},
     "output_type": "display_data"
    },
    {
     "data": {
      "application/vnd.jupyter.widget-view+json": {
       "model_id": "",
       "version_major": 2,
       "version_minor": 0
      },
      "text/plain": [
       "FloatProgress(value=0.0, bar_style='info', description='Progress:', layout=Layout(height='25px', width='50%'),…"
      ]
     },
     "metadata": {},
     "output_type": "display_data"
    },
    {
     "name": "stdout",
     "output_type": "stream",
     "text": [
      "+-----------+-----+\n",
      "|       Tipo|count|\n",
      "+-----------+-----+\n",
      "| En estudio| 8231|\n",
      "|Relacionado| 3859|\n",
      "|  Importado|  840|\n",
      "+-----------+-----+"
     ]
    }
   ],
   "source": [
    "#Cuantos confirmados hay en Colombia por tipo de contagio ordenados de mayor a menor\n",
    "colombia.groupBy('Tipo').count().orderBy('count', ascending=False).show()"
   ]
  },
  {
   "cell_type": "code",
   "execution_count": 128,
   "metadata": {},
   "outputs": [
    {
     "data": {
      "application/vnd.jupyter.widget-view+json": {
       "model_id": "4ac759bc4d244fa6b940e74e8d43a568",
       "version_major": 2,
       "version_minor": 0
      },
      "text/plain": [
       "VBox()"
      ]
     },
     "metadata": {},
     "output_type": "display_data"
    },
    {
     "data": {
      "application/vnd.jupyter.widget-view+json": {
       "model_id": "",
       "version_major": 2,
       "version_minor": 0
      },
      "text/plain": [
       "FloatProgress(value=0.0, bar_style='info', description='Progress:', layout=Layout(height='25px', width='50%'),…"
      ]
     },
     "metadata": {},
     "output_type": "display_data"
    },
    {
     "name": "stdout",
     "output_type": "stream",
     "text": [
      "+------------------------+-----+\n",
      "|Departamento o Distrito |count|\n",
      "+------------------------+-----+\n",
      "|             Bogotá D.C.| 1236|\n",
      "|         Valle del Cauca|  451|\n",
      "|               Antioquia|  305|\n",
      "|            Cundinamarca|  157|\n",
      "|     Cartagena D.T. y C.|  148|\n",
      "|               Risaralda|  139|\n",
      "|       Barranquilla D.E.|   61|\n",
      "|                   Huila|   61|\n",
      "|    Santa Marta D.T. ...|   60|\n",
      "|      Norte de Santander|   59|\n",
      "|                 Quindio|   56|\n",
      "|                   Cesar|   45|\n",
      "|                    Meta|   42|\n",
      "|                  Caldas|   41|\n",
      "|                  Tolima|   40|\n",
      "|                  Nariño|   37|\n",
      "|               Santander|   30|\n",
      "|               Atlántico|   29|\n",
      "|                  Boyacá|   24|\n",
      "|                   Cauca|   21|\n",
      "+------------------------+-----+\n",
      "only showing top 20 rows"
     ]
    }
   ],
   "source": [
    "#Cuantos recuperados hay en Colombia por departamento de mayor a menor\n",
    "colombia.filter(colombia['Estado']=='Recuperado').groupBy('Departamento o Distrito ').count().orderBy('count', ascending=False).show()"
   ]
  },
  {
   "cell_type": "code",
   "execution_count": 137,
   "metadata": {},
   "outputs": [
    {
     "data": {
      "application/vnd.jupyter.widget-view+json": {
       "model_id": "4e0bfb04af844182b5e875409e06b7a5",
       "version_major": 2,
       "version_minor": 0
      },
      "text/plain": [
       "VBox()"
      ]
     },
     "metadata": {},
     "output_type": "display_data"
    },
    {
     "data": {
      "application/vnd.jupyter.widget-view+json": {
       "model_id": "",
       "version_major": 2,
       "version_minor": 0
      },
      "text/plain": [
       "FloatProgress(value=0.0, bar_style='info', description='Progress:', layout=Layout(height='25px', width='50%'),…"
      ]
     },
     "metadata": {},
     "output_type": "display_data"
    },
    {
     "name": "stdout",
     "output_type": "stream",
     "text": [
      "+-----------+------------+----------------+------------+\n",
      "|Region Name|max(5/13/20)|  Country/Region|max(5/13/20)|\n",
      "+-----------+------------+----------------+------------+\n",
      "|   Americas|       84119|              US|       84119|\n",
      "|     Europe|       33186|  United Kingdom|       33186|\n",
      "|       Asia|        6783|            Iran|        6783|\n",
      "|     Africa|         556|           Egypt|         556|\n",
      "|    Oceania|          45|         Tunisia|          45|\n",
      "|    Oceania|          45|       Australia|          45|\n",
      "|       null|          13|Diamond Princess|          13|\n",
      "+-----------+------------+----------------+------------+"
     ]
    }
   ],
   "source": [
    "#Muertos en el país con mayor cantidad en cada continente ordenados de mayor a menor\n",
    "\n",
    "ta = m_muertos_dias.select('Country/Region','5/13/20','Region Name').groupBy('Region Name').max('5/13/20').sort('max(5/13/20)', ascending=False)\n",
    "tb = m_muertos_dias.select('Country/Region','5/13/20','Region Name').groupBy('Country/Region').max('5/13/20').sort('max(5/13/20)', ascending=False)\n",
    "\n",
    "inner_join = ta.join(tb, ta['max(5/13/20)'] == tb['max(5/13/20)'])\n",
    "inner_join.show()"
   ]
  },
  {
   "cell_type": "code",
   "execution_count": 125,
   "metadata": {},
   "outputs": [
    {
     "data": {
      "application/vnd.jupyter.widget-view+json": {
       "model_id": "2b12e567e43a41ff9c006e0fb5ec716a",
       "version_major": 2,
       "version_minor": 0
      },
      "text/plain": [
       "VBox()"
      ]
     },
     "metadata": {},
     "output_type": "display_data"
    },
    {
     "data": {
      "application/vnd.jupyter.widget-view+json": {
       "model_id": "",
       "version_major": 2,
       "version_minor": 0
      },
      "text/plain": [
       "FloatProgress(value=0.0, bar_style='info', description='Progress:', layout=Layout(height='25px', width='50%'),…"
      ]
     },
     "metadata": {},
     "output_type": "display_data"
    },
    {
     "name": "stdout",
     "output_type": "stream",
     "text": [
      "+--------------+------------+\n",
      "|Country/Region|sum(5/13/20)|\n",
      "+--------------+------------+\n",
      "|            US|       84119|\n",
      "|United Kingdom|       33264|\n",
      "|         Italy|       31106|\n",
      "|         Spain|       27104|\n",
      "|        France|       27077|\n",
      "|        Brazil|       13240|\n",
      "|       Belgium|        8843|\n",
      "|       Germany|        7861|\n",
      "|          Iran|        6783|\n",
      "|   Netherlands|        5581|\n",
      "|        Canada|        5425|\n",
      "|         China|        4637|\n",
      "|        Mexico|        4220|\n",
      "|        Turkey|        3952|\n",
      "|        Sweden|        3460|\n",
      "|         India|        2551|\n",
      "|       Ecuador|        2334|\n",
      "|        Russia|        2212|\n",
      "|          Peru|        2169|\n",
      "|   Switzerland|        1870|\n",
      "+--------------+------------+\n",
      "only showing top 20 rows"
     ]
    }
   ],
   "source": [
    "#consultamos cuantos muertos hay por país hasta el día 13/05/2020 de mayor a menor\n",
    "m_muertos_dias.select('Country/Region','5/13/20').groupBy('Country/Region').sum().orderBy('sum(5/13/20)', ascending=False).show()"
   ]
  },
  {
   "cell_type": "code",
   "execution_count": 126,
   "metadata": {},
   "outputs": [
    {
     "data": {
      "application/vnd.jupyter.widget-view+json": {
       "model_id": "58d73ea4f921481fa7bde0a313bd0045",
       "version_major": 2,
       "version_minor": 0
      },
      "text/plain": [
       "VBox()"
      ]
     },
     "metadata": {},
     "output_type": "display_data"
    },
    {
     "data": {
      "application/vnd.jupyter.widget-view+json": {
       "model_id": "",
       "version_major": 2,
       "version_minor": 0
      },
      "text/plain": [
       "FloatProgress(value=0.0, bar_style='info', description='Progress:', layout=Layout(height='25px', width='50%'),…"
      ]
     },
     "metadata": {},
     "output_type": "display_data"
    },
    {
     "name": "stdout",
     "output_type": "stream",
     "text": [
      "+-----------+-------+\n",
      "|Region Name|1/22/20|\n",
      "+-----------+-------+\n",
      "|       Asia|     28|\n",
      "+-----------+-------+"
     ]
    }
   ],
   "source": [
    "#Cuál fue el primer continente con recuperados y cuántos\n",
    "m_recup_dias.filter(m_recup_dias['1/22/20']!='0').select('Region Name', '1/22/20').show()"
   ]
  }
 ],
 "metadata": {
  "kernelspec": {
   "display_name": "PySpark",
   "language": "",
   "name": "pysparkkernel"
  },
  "language_info": {
   "codemirror_mode": {
    "name": "python",
    "version": 3
   },
   "mimetype": "text/x-python",
   "name": "pyspark",
   "pygments_lexer": "python3"
  }
 },
 "nbformat": 4,
 "nbformat_minor": 4
}
